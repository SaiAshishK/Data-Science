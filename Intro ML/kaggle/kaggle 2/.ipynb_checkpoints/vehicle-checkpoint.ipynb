{
 "cells": [
  {
   "cell_type": "code",
   "execution_count": null,
   "metadata": {},
   "outputs": [],
   "source": [
    "import os\n",
    "import numpy as np \n",
    "import pandas as pd \n",
    "import seaborn as sns\n",
    "import matplotlib.pyplot as plt\n",
    "from sklearn.model_selection import train_test_split\n",
    "from sklearn.preprocessing import PolynomialFeatures\n",
    "\n",
    "%matplotlib inline"
   ]
  },
  {
   "cell_type": "code",
   "execution_count": null,
   "metadata": {},
   "outputs": [],
   "source": [
    "def load_data():\n",
    "    file_path = 'data.csv'\n",
    "    df = pd.read_csv(file_path)\n",
    "    print(df.info())\n",
    "    \n",
    "    # Replacing missing values with median of that specific column\n",
    "    df['RM'].fillna(value=df['RM'].median(), inplace=True)\n",
    "    \n",
    "    x = df.drop('CRIM', axis=1).values\n",
    "    y = df['CRIM'].values\n",
    "    \n",
    "    return x, y, df"
   ]
  },
  {
   "cell_type": "code",
   "execution_count": null,
   "metadata": {},
   "outputs": [],
   "source": [
    "X, y, data_frame = load_data()\n",
    "print(f\"\\nData shape: {X.shape}\\nLabels: {y.shape}\")"
   ]
  },
  {
   "cell_type": "code",
   "execution_count": null,
   "metadata": {},
   "outputs": [],
   "source": [
    "def normalize(data):\n",
    "    min_val = np.min(data, axis=0)\n",
    "    max_val = np.max(data, axis=0)\n",
    "    norm_x = np.array([(row - min_val) / (max_val - min_val) for row in data])\n",
    "    return norm_x"
   ]
  },
  {
   "cell_type": "code",
   "execution_count": null,
   "metadata": {},
   "outputs": [],
   "source": [
    "norm_x = normalize(data=X)\n",
    "print(f\"Normalized data shape: {norm_x.shape}\")"
   ]
  },
  {
   "cell_type": "code",
   "execution_count": null,
   "metadata": {},
   "outputs": [],
   "source": [
    "poly_transform = PolynomialFeatures(degree=2)\n",
    "poly_x = poly_transform.fit_transform(norm_x)\n",
    "\n",
    "print(f\"Data after adding polynomial features\")\n",
    "print(f\"Data shape: {poly_x.shape}\")"
   ]
  },
  {
   "cell_type": "code",
   "execution_count": null,
   "metadata": {},
   "outputs": [],
   "source": [
    "def correlation_heatmap(dataframe):\n",
    "    plt.figure(figsize=(20, 10))\n",
    "    corr_mat = dataframe[dataframe.keys()].corr()\n",
    "    sns.heatmap(corr_mat, cmap='RdBu_r', robust=True, annot=True)\n",
    "    plt.show()"
   ]
  },
  {
   "cell_type": "code",
   "execution_count": null,
   "metadata": {},
   "outputs": [],
   "source": [
    "correlation_heatmap(dataframe=data_frame)"
   ]
  },
  {
   "cell_type": "code",
   "execution_count": null,
   "metadata": {},
   "outputs": [],
   "source": [
    "x_train, x_test, y_train, y_test = train_test_split(poly_x, y, test_size=0.2, shuffle=True, random_state=42)\n",
    "print(f\"Training data shape: {x_train.shape}, labels: {y_train.shape}\")\n",
    "print(f\"Testing data shape: {x_test.shape}, labels: {y_test.shape}\")"
   ]
  },
  {
   "cell_type": "code",
   "execution_count": null,
   "metadata": {},
   "outputs": [],
   "source": [
    "def compute_cost(features, labels, parameters):\n",
    "    m = labels.size\n",
    "    h_x = np.dot(features, parameters)\n",
    "    cost = (1 / (2 * m)) * sum(np.square(h_x - labels))\n",
    "    return cost\n",
    "\n",
    "\n",
    "def gradient_descent(features, labels, epochs, learning_rate):\n",
    "    J = []\n",
    "    m = labels.size\n",
    "    thetas = np.random.random(size=features[0, :].shape)\n",
    "    for _ in range(epochs):\n",
    "        h_x = np.dot(features, thetas)\n",
    "        for i in range(len(thetas)):\n",
    "            thetas[i] -= (learning_rate / m) * sum((h_x - labels) * features[:, i])\n",
    "        J.append(compute_cost(features=features, labels=labels, parameters=thetas))\n",
    "\n",
    "    return thetas, J\n",
    "\n",
    "\n",
    "def visualize_loss(cost):\n",
    "    plt.plot(cost)\n",
    "    plt.xlabel('Number of iterations')\n",
    "    plt.ylabel('Cost J')\n",
    "    plt.show()\n",
    "\n",
    "\n",
    "def MSE(actual, prediction):\n",
    "    mse = np.sum(np.square(actual - prediction))\n",
    "    return mse / len(actual)\n"
   ]
  },
  {
   "cell_type": "code",
   "execution_count": null,
   "metadata": {},
   "outputs": [],
   "source": [
    "alpha = 0.01\n",
    "epochs = 10000\n",
    "thetas, J = gradient_descent(features=x_train, labels=y_train, epochs=epochs, learning_rate=alpha)\n",
    "print(\"Optimized Thetas: {thetas}\")"
   ]
  },
  {
   "cell_type": "code",
   "execution_count": null,
   "metadata": {},
   "outputs": [],
   "source": [
    "visualize_loss(cost=J)\n",
    "print(\"MSE of training set: {}\".format(MSE(y_train, np.dot(x_train, thetas))))\n",
    "print(\"MSE of testing set: {}\".format(MSE(y_test, np.dot(x_test, thetas))))"
   ]
  },
  {
   "cell_type": "code",
   "execution_count": null,
   "metadata": {},
   "outputs": [],
   "source": []
  },
  {
   "cell_type": "code",
   "execution_count": null,
   "metadata": {},
   "outputs": [],
   "source": []
  }
 ],
 "metadata": {
  "kernelspec": {
   "display_name": "Python 3",
   "language": "python",
   "name": "python3"
  },
  "language_info": {
   "codemirror_mode": {
    "name": "ipython",
    "version": 3
   },
   "file_extension": ".py",
   "mimetype": "text/x-python",
   "name": "python",
   "nbconvert_exporter": "python",
   "pygments_lexer": "ipython3",
   "version": "3.8.3"
  }
 },
 "nbformat": 4,
 "nbformat_minor": 4
}
