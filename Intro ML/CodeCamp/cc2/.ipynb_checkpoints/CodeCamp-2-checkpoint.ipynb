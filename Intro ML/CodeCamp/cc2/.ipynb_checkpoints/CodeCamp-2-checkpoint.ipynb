{
 "cells": [
  {
   "cell_type": "code",
   "execution_count": 1,
   "metadata": {},
   "outputs": [],
   "source": [
    "import pandas as pd\n",
    "import numpy as np\n",
    "from matplotlib import pyplot as plt\n",
    "from sklearn.preprocessing import OneHotEncoder\n",
    "from sklearn.model_selection import train_test_split\n",
    "from sklearn import preprocessing\n",
    "from sklearn.impute import KNNImputer\n",
    "from sklearn.linear_model import Ridge\n",
    "# from sklearn.linear_model import LinearRegression\n",
    "# from sklearn.metrics import mean_squared_error as mserr\n",
    "from sklearn.decomposition import PCA\n",
    "from sklearn.linear_model import LogisticRegression\n",
    "from sklearn import svm\n",
    "from sklearn.svm import SVC\n",
    "from sklearn.metrics import classification_report\n",
    "from sklearn.metrics import roc_auc_score\n",
    "from sklearn.metrics import roc_curve\n",
    "from sklearn.metrics import auc\n",
    "from sklearn.neural_network import MLPClassifier"
   ]
  },
  {
   "cell_type": "code",
   "execution_count": 2,
   "metadata": {},
   "outputs": [],
   "source": [
    "#read train and test datasets into pandas DataFrames trainx_df, trainy_df,testx_df\n",
    "def readDataSets(train_path, test_path, predict_col, index_col = None):\n",
    "    if index_col == None:\n",
    "        trainx_df = pd.read_csv(train_path)\n",
    "        trainy_df = trainx_df[predict_col]\n",
    "        trainy_df.hist()\n",
    "        trainx_df.drop(predict_col,axis = 1,inplace = True)\n",
    "        testx_df = pd.read_csv(test_path)\n",
    "    else:\n",
    "        trainx_df = pd.read_csv(train_path,index_col = 'Id')\n",
    "        trainy_df = trainx_df[predict_col]\n",
    "        trainx_df.drop(predict_col,axis = 1,inplace = True)\n",
    "        testx_df = pd.read_csv(test_path,index_col='Id')\n",
    "    return trainx_df,trainy_df,testx_df"
   ]
  },
  {
   "cell_type": "code",
   "execution_count": 3,
   "metadata": {},
   "outputs": [],
   "source": [
    "\n",
    "# As a first step of pre-processing remove columns with null value ratio greater than provided limit\n",
    "def dropFeturesWithNullValuesGreaterThanALimit(trainx_df, testx_df, null_ratio = 0.3):\n",
    "    sample_size = len(trainx_df)\n",
    "    columns_with_null_values = [[col, float(trainx_df[col].isnull().sum())/float(sample_size)] for col in trainx_df.columns if trainx_df[col].isnull().sum()]\n",
    "    columns_to_drop = [x for (x,y) in columns_with_null_values if y > null_ratio]\n",
    "    trainx_df.drop(columns_to_drop, axis = 1, inplace = True)\n",
    "    testx_df.drop(columns_to_drop, axis = 1, inplace = True)\n",
    "    return trainx_df,testx_df"
   ]
  },
  {
   "cell_type": "code",
   "execution_count": 4,
   "metadata": {},
   "outputs": [],
   "source": [
    "# As a second pre-processing step find all categorical columns and one hot  encode them. Before one hot encode fill all null values with dummy in those columns.  Some categorical columns in trainx_df may not have null values in trainx_df but have null values in testx_df. To overcome this problem we will add a row to the trainx_df with all dummy values for categorical values. Once one hot encoding is complete drop the added dummy column\n",
    "def oneHotEncode(trainx_df,testx_df):\n",
    "    categorical_columns = [col for col in trainx_df.columns if trainx_df[col].dtype == object]\n",
    "    ordinal_columns = [col for col in trainx_df.columns if col not in categorical_columns]\n",
    "    dummy_row = list()\n",
    "    for col in trainx_df.columns:\n",
    "        if col in categorical_columns:\n",
    "            dummy_row.append(\"dummy\")\n",
    "        else:\n",
    "            dummy_row.append(\"\")\n",
    "    new_row = pd.DataFrame([dummy_row], columns = trainx_df.columns)\n",
    "    trainx_df = pd.concat([trainx_df,new_row], axis = 0, ignore_index = True)\n",
    "    testx_df = pd.concat([testx_df],axis = 0, ignore_index = True)\n",
    "    for col in categorical_columns:\n",
    "        trainx_df[col].fillna(value = \"dummy\", inplace = True)\n",
    "        testx_df[col].fillna(value = \"dummy\", inplace = True)\n",
    "    enc = OneHotEncoder(drop = 'first', sparse = False)\n",
    "    enc.fit(trainx_df[categorical_columns])\n",
    "    trainx_enc = pd.DataFrame(enc.transform(trainx_df[categorical_columns]))\n",
    "    testx_enc = pd.DataFrame(enc.transform(testx_df[categorical_columns]))\n",
    "    trainx_enc.columns = enc.get_feature_names(categorical_columns)\n",
    "    testx_enc.columns = enc.get_feature_names(categorical_columns)\n",
    "    trainx_df = pd.concat([trainx_df[ordinal_columns], trainx_enc], axis = 1, ignore_index = True)\n",
    "    testx_df = pd.concat([testx_df[ordinal_columns], testx_enc], axis = 1, ignore_index = True)\n",
    "    trainx_df.drop(trainx_df.tail(1).index, inplace = True)\n",
    "    return trainx_df,testx_df"
   ]
  },
  {
   "cell_type": "code",
   "execution_count": 5,
   "metadata": {},
   "outputs": [],
   "source": [
    "# As a third step of pre-processing fill all missing values for ordinal features\n",
    "def fillMissingValues(trainx_df,testx_df):\n",
    "    imputer = KNNImputer(n_neighbors = 2)\n",
    "    imputer.fit(trainx_df)\n",
    "    trainx_df_filled = imputer.transform(trainx_df)\n",
    "    trainx_df_filled = pd.DataFrame(trainx_df_filled, columns = trainx_df.columns)\n",
    "    testx_df_filled = imputer.transform(testx_df)\n",
    "    testx_df_filled = pd.DataFrame(testx_df_filled, columns = testx_df.columns)\n",
    "    testx_df_filled.reset_index(drop = True, inplace = True)\n",
    "    return trainx_df_filled,testx_df_filled"
   ]
  },
  {
   "cell_type": "code",
   "execution_count": 6,
   "metadata": {},
   "outputs": [],
   "source": [
    "# As a fourth step of pre-processing scale all the features either through Standard scores or MinMax scaling\n",
    "def scaleFetures(trainx_df,testx_df,scale = 'Standard'):\n",
    "    if scale == 'Standard':\n",
    "        scaler = preprocessing.StandardScaler().fit(trainx_df)\n",
    "        trainx_df = scaler.transform(trainx_df)\n",
    "        testx_df = scaler.transform(testx_df)\n",
    "    elif scale == 'MinMax':\n",
    "        scaler = preprocessing.MinMaxScaler().fit(trainx_df)\n",
    "        trainx_df = scaler.transform(trainx_df)\n",
    "        testx_df = scaler.transform(testx_df)\n",
    "    return trainx_df,testx_df"
   ]
  },
  {
   "cell_type": "code",
   "execution_count": 7,
   "metadata": {},
   "outputs": [],
   "source": [
    "#As fifth step of preprocessing apply PCA\n",
    "def findPrincipalComponents(trainx_df, testx_df):\n",
    "    pca = PCA().fit(trainx_df)\n",
    "    itemindex = np.where(np.cumsum(pca.explained_variance_ratio_) > 0.9999)\n",
    "    print('np.cumsum(pca.explained_variance_ratio_)', np.cumsum(pca.explained_variance_ratio_))\n",
    "    #Plotting the Cumulative Summation of the Explained Variance\n",
    "    plt.figure(np.cumsum(pca.explained_variance_ratio_)[0])\n",
    "    plt.plot(np.cumsum(pca.explained_variance_ratio_))\n",
    "    plt.xlabel('Number of Components')\n",
    "    plt.ylabel('Variance (%)') \n",
    "    #for each component\n",
    "    plt.title('Principal Components Explained Variance')\n",
    "    plt.show()\n",
    "    pca_std = PCA(n_components=itemindex[0][0]).fit(trainx_df)\n",
    "    trainx_df = pca_std.transform(trainx_df)\n",
    "    testx_df = pca_std.transform(testx_df)\n",
    "    return trainx_df, testx_df"
   ]
  },
  {
   "cell_type": "code",
   "execution_count": 8,
   "metadata": {},
   "outputs": [],
   "source": [
    "def encodeLabelsToZeroAndOne(trainy_df):\n",
    "    le = preprocessing.LabelEncoder()\n",
    "    trainy_df = le.fit_transform(trainy_df)\n",
    "    return trainy_df"
   ]
  },
  {
   "cell_type": "code",
   "execution_count": 9,
   "metadata": {},
   "outputs": [],
   "source": [
    "# As a fifth step of pre-processing split the trainx_df into tow parts to build a model and test how is it working to pick best model\n",
    "def splitTrainAndTest(trainx_df, trainy_df,split_ratio=0.3):\n",
    "    X_train, X_test, y_train, y_test = train_test_split(trainx_df, trainy_df, test_size=split_ratio, random_state=42)\n",
    "    return X_train, X_test, y_train, y_test"
   ]
  },
  {
   "cell_type": "code",
   "execution_count": 10,
   "metadata": {},
   "outputs": [],
   "source": [
    "# Fit Logistic Regression Model\n",
    "def getLogisticRegressionModel(X_train, y_train, reg_par = 0.00001, max_iterations = 1000000):\n",
    "    logreg = LogisticRegression(class_weight = \"balanced\", C = reg_par, max_iter = max_iterations)\n",
    "    logreg.fit(X_train, y_train)\n",
    "    return logreg"
   ]
  },
  {
   "cell_type": "code",
   "execution_count": 11,
   "metadata": {},
   "outputs": [],
   "source": [
    "#Fit SVM Classification Model\n",
    "def getSVClassificationModel(X_train, y_train, reg_par = 1.0, deg = 3, ker = 'rbf'):\n",
    "    svcmodel = SVC(C = reg_par, degree = deg, kernel=ker)\n",
    "    svcmodel.fit(X_train, y_train)\n",
    "    return svcmodel"
   ]
  },
  {
   "cell_type": "code",
   "execution_count": 12,
   "metadata": {},
   "outputs": [],
   "source": [
    "#get BackPropagation Model MLP classifier in scikitlearn we can see hidden layers\n",
    "def getBackPropagationModel(X_train, y_train,sol = 'lbfgs', reg_par = 1e-5, hid_layer_sizes = (5, ), random_state = 1, maxi_iter = 1000):\n",
    "    nn_bp_model = MLPClassifier(solver = sol, alpha = reg_par, hidden_layer_sizes = hid_layer_sizes, random_state = 1, max_iter = maxi_iter)\n",
    "    nn_bp_model.fit(X_train, y_train)\n",
    "    return nn_bp_model"
   ]
  },
  {
   "cell_type": "code",
   "execution_count": 13,
   "metadata": {},
   "outputs": [],
   "source": [
    "# K-means model\n",
    "def getKmeansClusteringModel(X_train, y_train, n_clusts = 8, n_init = 10, max_iter = 300, tol = 0.0001):\n",
    "        KmeansModel = KMeans(n_clusters = n_clusts, random_state = 0).fit(X_train)\n",
    "        return KmeansModel"
   ]
  },
  {
   "cell_type": "code",
   "execution_count": 14,
   "metadata": {},
   "outputs": [],
   "source": [
    "#get results from model\n",
    "def getScores(model,X_train, X_test, y_train, y_test):\n",
    "    '''THRESHOLD = 0.5\n",
    "    yhat = np.where(model.predict_proba(X_test)[:,1] > THRESHOLD, 1, 0)'''\n",
    "    yprobs = model.predict_log_proba(X_test)\n",
    "    yprobs = yprobs[:,1]\n",
    "    ras = roc_auc_score(y_test,yprobs,average = 'weighted')\n",
    "    print(ras)\n",
    "    yhat = model.predict(X_test)\n",
    "    \n",
    "    #pd.DataFrame(yhat).to_csv(model)\n",
    "    TP, TN, FP, FN = 0, 0, 0, 0\n",
    "    for i in range(len(yhat)):\n",
    "        if yhat[i] == 0:\n",
    "            if y_test[i] == 0:\n",
    "                TN += 1\n",
    "            else:\n",
    "                FN += 1\n",
    "        else:\n",
    "            if y_test[i] == 1:\n",
    "                TP += 1\n",
    "            else:\n",
    "                FP += 1\n",
    "    print(classification_report(y_test, yhat))\n",
    "    print(classification_report(y_test,yhat,output_dict = True)['1']['precision'], classification_report(y_test, yhat, output_dict = True)['1']['recall'])\n",
    "    fpr, tpr, threshold = roc_curve(y_test, yprobs)\n",
    "    roc_auc = auc(fpr, tpr)\n",
    "    plt.title('Receiver Operating Characteristic')\n",
    "    plt.plot(fpr, tpr, 'b', label = 'AUC = %0.2f' % roc_auc)\n",
    "    plt.legend(loc = 'lower right')\n",
    "    plt.plot([0, 1], [0, 1],'r--')\n",
    "    plt.xlim([0, 1])\n",
    "    plt.ylim([0, 1])\n",
    "    plt.ylabel('True Positive Rate')\n",
    "    plt.xlabel('False Positive Rate')\n",
    "    plt.show()\n",
    "    return([TP, TN, FP, FN, TP/(TP + FN), TN/(TN + FP)])"
   ]
  },
  {
   "cell_type": "code",
   "execution_count": 15,
   "metadata": {},
   "outputs": [],
   "source": [
    "def getScoresForSVC(model, X_train, X_test, y_train, y_test):\n",
    "    yhat = model.predict(X_test)  \n",
    "    #pd.DataFrame(yhat).to_csv(model)\n",
    "    TP, TN, FP, FN = 0, 0, 0, 0\n",
    "    for i in range(len(yhat)):\n",
    "        if yhat[i] == 0:\n",
    "            if y_test[i] == 0:\n",
    "                TN += 1\n",
    "            else:\n",
    "                FN += 1\n",
    "        else:\n",
    "            if y_test[i] == 1:\n",
    "                TP += 1\n",
    "            else:\n",
    "                FP += 1\n",
    "    print(classification_report(y_test, yhat))\n",
    "    print(classification_report(y_test, yhat, output_dict=True)['1']['precision'], classification_report(y_test, yhat, output_dict = True)['1']['recall'])\n",
    "    return([TP, TN, FP, FN, TP/(TP + FN), TN/(TN + FP)])"
   ]
  },
  {
   "cell_type": "code",
   "execution_count": 16,
   "metadata": {},
   "outputs": [
    {
     "ename": "FileNotFoundError",
     "evalue": "[Errno 2] File D:\\Courses\\2nd Year\\4.Data Science\\-Sp-Data_Science_2019501125\\Intro to ML\\CodeCamp-2\\marketing_training.csv does not exist: 'D:\\\\Courses\\\\2nd Year\\\\4.Data Science\\\\-Sp-Data_Science_2019501125\\\\Intro to ML\\\\CodeCamp-2\\\\marketing_training.csv'",
     "output_type": "error",
     "traceback": [
      "\u001b[1;31m---------------------------------------------------------------------------\u001b[0m",
      "\u001b[1;31mFileNotFoundError\u001b[0m                         Traceback (most recent call last)",
      "\u001b[1;32m<ipython-input-16-0fc28ea7bd0a>\u001b[0m in \u001b[0;36m<module>\u001b[1;34m\u001b[0m\n\u001b[0;32m      4\u001b[0m     \u001b[0mtestpred\u001b[0m\u001b[1;33m.\u001b[0m\u001b[0mto_csv\u001b[0m\u001b[1;33m(\u001b[0m\u001b[1;34m\"test_pred.csv\"\u001b[0m\u001b[1;33m)\u001b[0m\u001b[1;33m\u001b[0m\u001b[1;33m\u001b[0m\u001b[0m\n\u001b[0;32m      5\u001b[0m \u001b[1;33m\u001b[0m\u001b[0m\n\u001b[1;32m----> 6\u001b[1;33m \u001b[0mtrainx_df\u001b[0m\u001b[1;33m,\u001b[0m \u001b[0mtrainy_df\u001b[0m\u001b[1;33m,\u001b[0m \u001b[0mtestx_df\u001b[0m \u001b[1;33m=\u001b[0m \u001b[0mreadDataSets\u001b[0m\u001b[1;33m(\u001b[0m\u001b[1;34m\"D:\\\\Courses\\\\2nd Year\\\\4.Data Science\\\\-Sp-Data_Science_2019501125\\\\Intro to ML\\\\CodeCamp-2\\\\marketing_training.csv\"\u001b[0m\u001b[1;33m,\u001b[0m\u001b[1;34m\"D:\\\\Courses\\\\2nd Year\\\\4.Data Science\\\\-Sp-Data_Science_2019501125\\\\Intro to ML\\\\CodeCamp-2\\\\marketing_test.csv\"\u001b[0m\u001b[1;33m,\u001b[0m \u001b[0mpredict_col\u001b[0m\u001b[1;33m=\u001b[0m\u001b[1;34m'responded'\u001b[0m\u001b[1;33m)\u001b[0m\u001b[1;33m\u001b[0m\u001b[1;33m\u001b[0m\u001b[0m\n\u001b[0m\u001b[0;32m      7\u001b[0m \u001b[0mtrainx_df\u001b[0m\u001b[1;33m,\u001b[0m \u001b[0mtestx_df\u001b[0m \u001b[1;33m=\u001b[0m \u001b[0mdropFeturesWithNullValuesGreaterThanALimit\u001b[0m\u001b[1;33m(\u001b[0m\u001b[0mtrainx_df\u001b[0m\u001b[1;33m,\u001b[0m \u001b[0mtestx_df\u001b[0m\u001b[1;33m,\u001b[0m\u001b[0mnull_ratio\u001b[0m\u001b[1;33m=\u001b[0m\u001b[1;36m0.5\u001b[0m\u001b[1;33m)\u001b[0m\u001b[1;33m\u001b[0m\u001b[1;33m\u001b[0m\u001b[0m\n\u001b[0;32m      8\u001b[0m \u001b[0mtrainx_df\u001b[0m\u001b[1;33m,\u001b[0m \u001b[0mtestx_df\u001b[0m \u001b[1;33m=\u001b[0m \u001b[0moneHotEncode\u001b[0m\u001b[1;33m(\u001b[0m\u001b[0mtrainx_df\u001b[0m\u001b[1;33m,\u001b[0m \u001b[0mtestx_df\u001b[0m\u001b[1;33m)\u001b[0m\u001b[1;33m\u001b[0m\u001b[1;33m\u001b[0m\u001b[0m\n",
      "\u001b[1;32m<ipython-input-2-dee8da802115>\u001b[0m in \u001b[0;36mreadDataSets\u001b[1;34m(train_path, test_path, predict_col, index_col)\u001b[0m\n\u001b[0;32m      2\u001b[0m \u001b[1;32mdef\u001b[0m \u001b[0mreadDataSets\u001b[0m\u001b[1;33m(\u001b[0m\u001b[0mtrain_path\u001b[0m\u001b[1;33m,\u001b[0m \u001b[0mtest_path\u001b[0m\u001b[1;33m,\u001b[0m \u001b[0mpredict_col\u001b[0m\u001b[1;33m,\u001b[0m \u001b[0mindex_col\u001b[0m \u001b[1;33m=\u001b[0m \u001b[1;32mNone\u001b[0m\u001b[1;33m)\u001b[0m\u001b[1;33m:\u001b[0m\u001b[1;33m\u001b[0m\u001b[1;33m\u001b[0m\u001b[0m\n\u001b[0;32m      3\u001b[0m     \u001b[1;32mif\u001b[0m \u001b[0mindex_col\u001b[0m \u001b[1;33m==\u001b[0m \u001b[1;32mNone\u001b[0m\u001b[1;33m:\u001b[0m\u001b[1;33m\u001b[0m\u001b[1;33m\u001b[0m\u001b[0m\n\u001b[1;32m----> 4\u001b[1;33m         \u001b[0mtrainx_df\u001b[0m \u001b[1;33m=\u001b[0m \u001b[0mpd\u001b[0m\u001b[1;33m.\u001b[0m\u001b[0mread_csv\u001b[0m\u001b[1;33m(\u001b[0m\u001b[0mtrain_path\u001b[0m\u001b[1;33m)\u001b[0m\u001b[1;33m\u001b[0m\u001b[1;33m\u001b[0m\u001b[0m\n\u001b[0m\u001b[0;32m      5\u001b[0m         \u001b[0mtrainy_df\u001b[0m \u001b[1;33m=\u001b[0m \u001b[0mtrainx_df\u001b[0m\u001b[1;33m[\u001b[0m\u001b[0mpredict_col\u001b[0m\u001b[1;33m]\u001b[0m\u001b[1;33m\u001b[0m\u001b[1;33m\u001b[0m\u001b[0m\n\u001b[0;32m      6\u001b[0m         \u001b[0mtrainy_df\u001b[0m\u001b[1;33m.\u001b[0m\u001b[0mhist\u001b[0m\u001b[1;33m(\u001b[0m\u001b[1;33m)\u001b[0m\u001b[1;33m\u001b[0m\u001b[1;33m\u001b[0m\u001b[0m\n",
      "\u001b[1;32m~\\anaconda3\\lib\\site-packages\\pandas\\io\\parsers.py\u001b[0m in \u001b[0;36mparser_f\u001b[1;34m(filepath_or_buffer, sep, delimiter, header, names, index_col, usecols, squeeze, prefix, mangle_dupe_cols, dtype, engine, converters, true_values, false_values, skipinitialspace, skiprows, skipfooter, nrows, na_values, keep_default_na, na_filter, verbose, skip_blank_lines, parse_dates, infer_datetime_format, keep_date_col, date_parser, dayfirst, cache_dates, iterator, chunksize, compression, thousands, decimal, lineterminator, quotechar, quoting, doublequote, escapechar, comment, encoding, dialect, error_bad_lines, warn_bad_lines, delim_whitespace, low_memory, memory_map, float_precision)\u001b[0m\n\u001b[0;32m    674\u001b[0m         )\n\u001b[0;32m    675\u001b[0m \u001b[1;33m\u001b[0m\u001b[0m\n\u001b[1;32m--> 676\u001b[1;33m         \u001b[1;32mreturn\u001b[0m \u001b[0m_read\u001b[0m\u001b[1;33m(\u001b[0m\u001b[0mfilepath_or_buffer\u001b[0m\u001b[1;33m,\u001b[0m \u001b[0mkwds\u001b[0m\u001b[1;33m)\u001b[0m\u001b[1;33m\u001b[0m\u001b[1;33m\u001b[0m\u001b[0m\n\u001b[0m\u001b[0;32m    677\u001b[0m \u001b[1;33m\u001b[0m\u001b[0m\n\u001b[0;32m    678\u001b[0m     \u001b[0mparser_f\u001b[0m\u001b[1;33m.\u001b[0m\u001b[0m__name__\u001b[0m \u001b[1;33m=\u001b[0m \u001b[0mname\u001b[0m\u001b[1;33m\u001b[0m\u001b[1;33m\u001b[0m\u001b[0m\n",
      "\u001b[1;32m~\\anaconda3\\lib\\site-packages\\pandas\\io\\parsers.py\u001b[0m in \u001b[0;36m_read\u001b[1;34m(filepath_or_buffer, kwds)\u001b[0m\n\u001b[0;32m    446\u001b[0m \u001b[1;33m\u001b[0m\u001b[0m\n\u001b[0;32m    447\u001b[0m     \u001b[1;31m# Create the parser.\u001b[0m\u001b[1;33m\u001b[0m\u001b[1;33m\u001b[0m\u001b[1;33m\u001b[0m\u001b[0m\n\u001b[1;32m--> 448\u001b[1;33m     \u001b[0mparser\u001b[0m \u001b[1;33m=\u001b[0m \u001b[0mTextFileReader\u001b[0m\u001b[1;33m(\u001b[0m\u001b[0mfp_or_buf\u001b[0m\u001b[1;33m,\u001b[0m \u001b[1;33m**\u001b[0m\u001b[0mkwds\u001b[0m\u001b[1;33m)\u001b[0m\u001b[1;33m\u001b[0m\u001b[1;33m\u001b[0m\u001b[0m\n\u001b[0m\u001b[0;32m    449\u001b[0m \u001b[1;33m\u001b[0m\u001b[0m\n\u001b[0;32m    450\u001b[0m     \u001b[1;32mif\u001b[0m \u001b[0mchunksize\u001b[0m \u001b[1;32mor\u001b[0m \u001b[0miterator\u001b[0m\u001b[1;33m:\u001b[0m\u001b[1;33m\u001b[0m\u001b[1;33m\u001b[0m\u001b[0m\n",
      "\u001b[1;32m~\\anaconda3\\lib\\site-packages\\pandas\\io\\parsers.py\u001b[0m in \u001b[0;36m__init__\u001b[1;34m(self, f, engine, **kwds)\u001b[0m\n\u001b[0;32m    878\u001b[0m             \u001b[0mself\u001b[0m\u001b[1;33m.\u001b[0m\u001b[0moptions\u001b[0m\u001b[1;33m[\u001b[0m\u001b[1;34m\"has_index_names\"\u001b[0m\u001b[1;33m]\u001b[0m \u001b[1;33m=\u001b[0m \u001b[0mkwds\u001b[0m\u001b[1;33m[\u001b[0m\u001b[1;34m\"has_index_names\"\u001b[0m\u001b[1;33m]\u001b[0m\u001b[1;33m\u001b[0m\u001b[1;33m\u001b[0m\u001b[0m\n\u001b[0;32m    879\u001b[0m \u001b[1;33m\u001b[0m\u001b[0m\n\u001b[1;32m--> 880\u001b[1;33m         \u001b[0mself\u001b[0m\u001b[1;33m.\u001b[0m\u001b[0m_make_engine\u001b[0m\u001b[1;33m(\u001b[0m\u001b[0mself\u001b[0m\u001b[1;33m.\u001b[0m\u001b[0mengine\u001b[0m\u001b[1;33m)\u001b[0m\u001b[1;33m\u001b[0m\u001b[1;33m\u001b[0m\u001b[0m\n\u001b[0m\u001b[0;32m    881\u001b[0m \u001b[1;33m\u001b[0m\u001b[0m\n\u001b[0;32m    882\u001b[0m     \u001b[1;32mdef\u001b[0m \u001b[0mclose\u001b[0m\u001b[1;33m(\u001b[0m\u001b[0mself\u001b[0m\u001b[1;33m)\u001b[0m\u001b[1;33m:\u001b[0m\u001b[1;33m\u001b[0m\u001b[1;33m\u001b[0m\u001b[0m\n",
      "\u001b[1;32m~\\anaconda3\\lib\\site-packages\\pandas\\io\\parsers.py\u001b[0m in \u001b[0;36m_make_engine\u001b[1;34m(self, engine)\u001b[0m\n\u001b[0;32m   1112\u001b[0m     \u001b[1;32mdef\u001b[0m \u001b[0m_make_engine\u001b[0m\u001b[1;33m(\u001b[0m\u001b[0mself\u001b[0m\u001b[1;33m,\u001b[0m \u001b[0mengine\u001b[0m\u001b[1;33m=\u001b[0m\u001b[1;34m\"c\"\u001b[0m\u001b[1;33m)\u001b[0m\u001b[1;33m:\u001b[0m\u001b[1;33m\u001b[0m\u001b[1;33m\u001b[0m\u001b[0m\n\u001b[0;32m   1113\u001b[0m         \u001b[1;32mif\u001b[0m \u001b[0mengine\u001b[0m \u001b[1;33m==\u001b[0m \u001b[1;34m\"c\"\u001b[0m\u001b[1;33m:\u001b[0m\u001b[1;33m\u001b[0m\u001b[1;33m\u001b[0m\u001b[0m\n\u001b[1;32m-> 1114\u001b[1;33m             \u001b[0mself\u001b[0m\u001b[1;33m.\u001b[0m\u001b[0m_engine\u001b[0m \u001b[1;33m=\u001b[0m \u001b[0mCParserWrapper\u001b[0m\u001b[1;33m(\u001b[0m\u001b[0mself\u001b[0m\u001b[1;33m.\u001b[0m\u001b[0mf\u001b[0m\u001b[1;33m,\u001b[0m \u001b[1;33m**\u001b[0m\u001b[0mself\u001b[0m\u001b[1;33m.\u001b[0m\u001b[0moptions\u001b[0m\u001b[1;33m)\u001b[0m\u001b[1;33m\u001b[0m\u001b[1;33m\u001b[0m\u001b[0m\n\u001b[0m\u001b[0;32m   1115\u001b[0m         \u001b[1;32melse\u001b[0m\u001b[1;33m:\u001b[0m\u001b[1;33m\u001b[0m\u001b[1;33m\u001b[0m\u001b[0m\n\u001b[0;32m   1116\u001b[0m             \u001b[1;32mif\u001b[0m \u001b[0mengine\u001b[0m \u001b[1;33m==\u001b[0m \u001b[1;34m\"python\"\u001b[0m\u001b[1;33m:\u001b[0m\u001b[1;33m\u001b[0m\u001b[1;33m\u001b[0m\u001b[0m\n",
      "\u001b[1;32m~\\anaconda3\\lib\\site-packages\\pandas\\io\\parsers.py\u001b[0m in \u001b[0;36m__init__\u001b[1;34m(self, src, **kwds)\u001b[0m\n\u001b[0;32m   1889\u001b[0m         \u001b[0mkwds\u001b[0m\u001b[1;33m[\u001b[0m\u001b[1;34m\"usecols\"\u001b[0m\u001b[1;33m]\u001b[0m \u001b[1;33m=\u001b[0m \u001b[0mself\u001b[0m\u001b[1;33m.\u001b[0m\u001b[0musecols\u001b[0m\u001b[1;33m\u001b[0m\u001b[1;33m\u001b[0m\u001b[0m\n\u001b[0;32m   1890\u001b[0m \u001b[1;33m\u001b[0m\u001b[0m\n\u001b[1;32m-> 1891\u001b[1;33m         \u001b[0mself\u001b[0m\u001b[1;33m.\u001b[0m\u001b[0m_reader\u001b[0m \u001b[1;33m=\u001b[0m \u001b[0mparsers\u001b[0m\u001b[1;33m.\u001b[0m\u001b[0mTextReader\u001b[0m\u001b[1;33m(\u001b[0m\u001b[0msrc\u001b[0m\u001b[1;33m,\u001b[0m \u001b[1;33m**\u001b[0m\u001b[0mkwds\u001b[0m\u001b[1;33m)\u001b[0m\u001b[1;33m\u001b[0m\u001b[1;33m\u001b[0m\u001b[0m\n\u001b[0m\u001b[0;32m   1892\u001b[0m         \u001b[0mself\u001b[0m\u001b[1;33m.\u001b[0m\u001b[0munnamed_cols\u001b[0m \u001b[1;33m=\u001b[0m \u001b[0mself\u001b[0m\u001b[1;33m.\u001b[0m\u001b[0m_reader\u001b[0m\u001b[1;33m.\u001b[0m\u001b[0munnamed_cols\u001b[0m\u001b[1;33m\u001b[0m\u001b[1;33m\u001b[0m\u001b[0m\n\u001b[0;32m   1893\u001b[0m \u001b[1;33m\u001b[0m\u001b[0m\n",
      "\u001b[1;32mpandas\\_libs\\parsers.pyx\u001b[0m in \u001b[0;36mpandas._libs.parsers.TextReader.__cinit__\u001b[1;34m()\u001b[0m\n",
      "\u001b[1;32mpandas\\_libs\\parsers.pyx\u001b[0m in \u001b[0;36mpandas._libs.parsers.TextReader._setup_parser_source\u001b[1;34m()\u001b[0m\n",
      "\u001b[1;31mFileNotFoundError\u001b[0m: [Errno 2] File D:\\Courses\\2nd Year\\4.Data Science\\-Sp-Data_Science_2019501125\\Intro to ML\\CodeCamp-2\\marketing_training.csv does not exist: 'D:\\\\Courses\\\\2nd Year\\\\4.Data Science\\\\-Sp-Data_Science_2019501125\\\\Intro to ML\\\\CodeCamp-2\\\\marketing_training.csv'"
     ]
    }
   ],
   "source": [
    "# Tune regularization Parameter based on f1 value or mse\n",
    "def predictTestx(Model, testx_df):\n",
    "    testpred = pd.DataFrame(Model.predict(testx_df))\n",
    "    testpred.to_csv(\"test_pred.csv\")\n",
    "\n",
    "trainx_df, trainy_df, testx_df = readDataSets(\"C:\\Users\\HP\\Desktop\\cc1\\\\marketing_training.csv\",\"D:\\\\Courses\\\\2nd Year\\\\4.Data Science\\\\-Sp-Data_Science_2019501125\\\\Intro to ML\\\\CodeCamp-2\\\\marketing_test.csv\", predict_col='responded')\n",
    "trainx_df, testx_df = dropFeturesWithNullValuesGreaterThanALimit(trainx_df, testx_df,null_ratio=0.5)\n",
    "trainx_df, testx_df = oneHotEncode(trainx_df, testx_df)\n",
    "trainx_df, testx_df = fillMissingValues(trainx_df, testx_df)\n",
    "trainx_df, testx_df = scaleFetures(trainx_df, testx_df, scale ='Standard')\n",
    "trainy_df = encodeLabelsToZeroAndOne(trainy_df)\n",
    "trainx_df, testx_df = findPrincipalComponents(trainx_df, testx_df)\n",
    "X_train, X_test, y_train, y_test = splitTrainAndTest(trainx_df, trainy_df, split_ratio = 0.3)\n",
    "LogRegModel = getLogisticRegressionModel(X_train, y_train)\n",
    "getScores(LogRegModel, X_train, X_test, y_train, y_test)\n",
    "print(\"Results for SVM Classifier\")\n",
    "\n",
    "\n"
   ]
  },
  {
   "cell_type": "code",
   "execution_count": 21,
   "metadata": {},
   "outputs": [
    {
     "name": "stdout",
     "output_type": "stream",
     "text": [
      "              precision    recall  f1-score   support\n",
      "\n",
      "           0       0.89      0.99      0.94      1942\n",
      "           1       0.71      0.18      0.29       283\n",
      "\n",
      "    accuracy                           0.89      2225\n",
      "   macro avg       0.80      0.59      0.62      2225\n",
      "weighted avg       0.87      0.89      0.86      2225\n",
      "\n",
      "0.7123287671232876 0.18374558303886926\n",
      "Results for Back Propagation Classifier\n"
     ]
    }
   ],
   "source": [
    "svcmodel = getSVClassificationModel(X_train, y_train, reg_par = 0.5, deg = 2, ker = 'poly')\n",
    "getScoresForSVC(svcmodel, X_train, X_test, y_train, y_test)\n",
    "print(\"Results for Back Propagation Classifier\")"
   ]
  },
  {
   "cell_type": "code",
   "execution_count": null,
   "metadata": {},
   "outputs": [],
   "source": [
    "nn_bp_model = getBackPropagationModel(X_train, y_train, sol = 'lbfgs', reg_par = 0.01, hid_layer_sizes = (7, ), random_state = 1, maxi_iter = 10000)\n",
    "getScores(nn_bp_model, X_train, X_test, y_train, y_test)"
   ]
  },
  {
   "cell_type": "code",
   "execution_count": null,
   "metadata": {},
   "outputs": [],
   "source": []
  }
 ],
 "metadata": {
  "kernelspec": {
   "display_name": "Python 3",
   "language": "python",
   "name": "python3"
  },
  "language_info": {
   "codemirror_mode": {
    "name": "ipython",
    "version": 3
   },
   "file_extension": ".py",
   "mimetype": "text/x-python",
   "name": "python",
   "nbconvert_exporter": "python",
   "pygments_lexer": "ipython3",
   "version": "3.8.3"
  }
 },
 "nbformat": 4,
 "nbformat_minor": 4
}
