{
 "cells": [
  {
   "cell_type": "code",
   "execution_count": 51,
   "metadata": {},
   "outputs": [],
   "source": [
    "import pandas as pd\n",
    "import numpy as np\n",
    "import random as rnd\n",
    "\n",
    "# visualization\n",
    "import seaborn as sns\n",
    "import matplotlib.pyplot as plt\n",
    "%matplotlib inline\n",
    "\n",
    "# machine learning\n",
    "from sklearn.linear_model import LogisticRegression\n",
    "from sklearn.svm import SVC, LinearSVC\n",
    "from sklearn.ensemble import RandomForestClassifier\n",
    "from sklearn.neighbors import KNeighborsClassifier\n",
    "from sklearn.naive_bayes import GaussianNB\n",
    "from sklearn.linear_model import Perceptron\n",
    "from sklearn.linear_model import SGDClassifier\n",
    "from sklearn.tree import DecisionTreeClassifier"
   ]
  },
  {
   "cell_type": "code",
   "execution_count": 52,
   "metadata": {},
   "outputs": [
    {
     "name": "stdout",
     "output_type": "stream",
     "text": [
      "   Total  HP  Attack  Defense  Sp_Atk  Sp_Def  Speed  Generation  isLegendary  \\\n",
      "0    318  45      49       49      65      65     45           1        False   \n",
      "1    405  60      62       63      80      80     60           1        False   \n",
      "2    525  80      82       83     100     100     80           1        False   \n",
      "3    309  39      52       43      60      50     65           1        False   \n",
      "4    405  58      64       58      80      65     80           1        False   \n",
      "\n",
      "   Color  hasGender Egg_Group_1  Height_m  Weight_kg  Catch_Rate  \\\n",
      "0  Green       True     Monster      0.71        6.9          45   \n",
      "1  Green       True     Monster      0.99       13.0          45   \n",
      "2  Green       True     Monster      2.01      100.0          45   \n",
      "3    Red       True     Monster      0.61        8.5          45   \n",
      "4    Red       True     Monster      1.09       19.0          45   \n",
      "\n",
      "       Body_Style  \n",
      "0       quadruped  \n",
      "1       quadruped  \n",
      "2       quadruped  \n",
      "3  bipedal_tailed  \n",
      "4  bipedal_tailed  \n",
      "--------------\n",
      "['Grass' 'Grass' 'Grass' 'Fire' 'Fire' 'Fire' 'Water' 'Water' 'Water'\n",
      " 'Bug' 'Bug' 'Bug' 'Bug' 'Bug' 'Bug' 'Normal' 'Normal' 'Normal' 'Normal'\n",
      " 'Normal' 'Normal' 'Normal' 'Poison' 'Poison' 'Electric' 'Electric'\n",
      " 'Ground' 'Ground' 'Poison' 'Poison' 'Poison' 'Poison' 'Poison' 'Poison'\n",
      " 'Fairy' 'Fairy' 'Fire' 'Fire' 'Normal' 'Normal' 'Poison' 'Poison' 'Grass'\n",
      " 'Grass' 'Grass' 'Bug' 'Bug' 'Bug' 'Bug' 'Ground' 'Ground' 'Normal'\n",
      " 'Normal' 'Water' 'Water' 'Fighting' 'Fighting' 'Fire' 'Fire' 'Water'\n",
      " 'Water' 'Water' 'Psychic' 'Psychic' 'Psychic' 'Fighting' 'Fighting'\n",
      " 'Fighting' 'Grass' 'Grass' 'Grass' 'Water' 'Water' 'Rock' 'Rock' 'Rock'\n",
      " 'Fire' 'Fire' 'Water' 'Water' 'Electric' 'Electric' 'Normal' 'Normal'\n",
      " 'Normal' 'Water' 'Water' 'Poison' 'Poison' 'Water' 'Water' 'Ghost'\n",
      " 'Ghost' 'Ghost' 'Rock' 'Psychic' 'Psychic' 'Water' 'Water' 'Electric'\n",
      " 'Electric' 'Grass' 'Grass' 'Ground' 'Ground' 'Fighting' 'Fighting'\n",
      " 'Normal' 'Poison' 'Poison' 'Ground' 'Ground' 'Normal' 'Grass' 'Normal'\n",
      " 'Water' 'Water' 'Water' 'Water' 'Water' 'Water' 'Psychic' 'Bug' 'Ice'\n",
      " 'Electric' 'Fire' 'Bug' 'Normal' 'Water' 'Water' 'Water' 'Normal'\n",
      " 'Normal' 'Water' 'Electric' 'Fire' 'Normal' 'Rock' 'Rock' 'Rock' 'Rock'\n",
      " 'Rock' 'Normal' 'Ice' 'Electric' 'Fire' 'Dragon' 'Dragon' 'Dragon'\n",
      " 'Psychic' 'Psychic' 'Grass' 'Grass' 'Grass' 'Fire' 'Fire' 'Fire' 'Water'\n",
      " 'Water' 'Water' 'Normal' 'Normal' 'Normal' 'Normal' 'Bug' 'Bug' 'Bug'\n",
      " 'Bug' 'Poison' 'Water' 'Water' 'Electric' 'Fairy' 'Normal' 'Fairy'\n",
      " 'Fairy' 'Psychic' 'Psychic' 'Electric' 'Electric' 'Electric' 'Grass'\n",
      " 'Water' 'Water' 'Rock' 'Water' 'Grass' 'Grass' 'Grass' 'Normal' 'Grass'\n",
      " 'Grass' 'Bug' 'Water' 'Water' 'Psychic' 'Dark' 'Dark' 'Water' 'Ghost'\n",
      " 'Psychic' 'Psychic' 'Normal' 'Bug' 'Bug' 'Normal' 'Ground' 'Steel'\n",
      " 'Fairy' 'Fairy' 'Water' 'Bug' 'Bug' 'Bug' 'Dark' 'Normal' 'Normal' 'Fire'\n",
      " 'Fire' 'Ice' 'Ice' 'Water' 'Water' 'Water' 'Ice' 'Water' 'Steel' 'Dark'\n",
      " 'Dark' 'Water' 'Ground' 'Ground' 'Normal' 'Normal' 'Normal' 'Fighting'\n",
      " 'Fighting' 'Ice' 'Electric' 'Fire' 'Normal' 'Normal' 'Electric' 'Fire'\n",
      " 'Water' 'Rock' 'Rock' 'Rock' 'Psychic' 'Fire' 'Psychic' 'Grass' 'Grass'\n",
      " 'Grass' 'Fire' 'Fire' 'Fire' 'Water' 'Water' 'Water' 'Dark' 'Dark'\n",
      " 'Normal' 'Normal' 'Bug' 'Bug' 'Bug' 'Bug' 'Bug' 'Water' 'Water' 'Water'\n",
      " 'Grass' 'Grass' 'Grass' 'Normal' 'Normal' 'Water' 'Water' 'Psychic'\n",
      " 'Psychic' 'Psychic' 'Bug' 'Bug' 'Grass' 'Grass' 'Normal' 'Normal'\n",
      " 'Normal' 'Bug' 'Bug' 'Bug' 'Normal' 'Normal' 'Normal' 'Fighting'\n",
      " 'Fighting' 'Normal' 'Rock' 'Normal' 'Normal' 'Dark' 'Steel' 'Steel'\n",
      " 'Steel' 'Steel' 'Fighting' 'Fighting' 'Electric' 'Electric' 'Electric'\n",
      " 'Electric' 'Bug' 'Bug' 'Grass' 'Poison' 'Poison' 'Water' 'Water' 'Water'\n",
      " 'Water' 'Fire' 'Fire' 'Fire' 'Psychic' 'Psychic' 'Normal' 'Ground'\n",
      " 'Ground' 'Ground' 'Grass' 'Grass' 'Normal' 'Dragon' 'Normal' 'Poison'\n",
      " 'Rock' 'Rock' 'Water' 'Water' 'Water' 'Water' 'Ground' 'Ground' 'Rock'\n",
      " 'Rock' 'Rock' 'Rock' 'Water' 'Water' 'Normal' 'Normal' 'Ghost' 'Ghost'\n",
      " 'Ghost' 'Ghost' 'Grass' 'Psychic' 'Dark' 'Psychic' 'Ice' 'Ice' 'Ice'\n",
      " 'Ice' 'Ice' 'Water' 'Water' 'Water' 'Water' 'Water' 'Dragon' 'Dragon'\n",
      " 'Dragon' 'Steel' 'Steel' 'Steel' 'Rock' 'Ice' 'Steel' 'Dragon' 'Dragon'\n",
      " 'Water' 'Ground' 'Dragon' 'Steel' 'Psychic' 'Grass' 'Grass' 'Grass'\n",
      " 'Fire' 'Fire' 'Fire' 'Water' 'Water' 'Water' 'Normal' 'Normal' 'Normal'\n",
      " 'Normal' 'Normal' 'Bug' 'Bug' 'Electric' 'Electric' 'Electric' 'Grass'\n",
      " 'Grass' 'Rock' 'Rock' 'Rock' 'Rock' 'Bug' 'Bug' 'Bug' 'Bug' 'Bug'\n",
      " 'Electric' 'Water' 'Water' 'Grass' 'Grass' 'Water' 'Water' 'Normal'\n",
      " 'Ghost' 'Ghost' 'Normal' 'Normal' 'Ghost' 'Dark' 'Normal' 'Normal'\n",
      " 'Psychic' 'Poison' 'Poison' 'Steel' 'Steel' 'Rock' 'Psychic' 'Normal'\n",
      " 'Normal' 'Ghost' 'Dragon' 'Dragon' 'Dragon' 'Normal' 'Fighting'\n",
      " 'Fighting' 'Ground' 'Ground' 'Poison' 'Poison' 'Poison' 'Poison' 'Grass'\n",
      " 'Water' 'Water' 'Water' 'Grass' 'Grass' 'Dark' 'Electric' 'Normal'\n",
      " 'Ground' 'Grass' 'Electric' 'Fire' 'Fairy' 'Bug' 'Grass' 'Ice' 'Ground'\n",
      " 'Ice' 'Normal' 'Psychic' 'Rock' 'Ghost' 'Ice' 'Electric' 'Psychic'\n",
      " 'Psychic' 'Psychic' 'Steel' 'Water' 'Fire' 'Normal' 'Ghost' 'Psychic'\n",
      " 'Water' 'Water' 'Dark' 'Grass' 'Normal' 'Psychic' 'Grass' 'Grass' 'Grass'\n",
      " 'Fire' 'Fire' 'Fire' 'Water' 'Water' 'Water' 'Normal' 'Normal' 'Normal'\n",
      " 'Normal' 'Normal' 'Dark' 'Dark' 'Grass' 'Grass' 'Fire' 'Fire' 'Water'\n",
      " 'Water' 'Psychic' 'Psychic' 'Normal' 'Normal' 'Normal' 'Electric'\n",
      " 'Electric' 'Rock' 'Rock' 'Rock' 'Psychic' 'Psychic' 'Ground' 'Ground'\n",
      " 'Normal' 'Fighting' 'Fighting' 'Fighting' 'Water' 'Water' 'Water'\n",
      " 'Fighting' 'Fighting' 'Bug' 'Bug' 'Bug' 'Bug' 'Bug' 'Bug' 'Grass' 'Grass'\n",
      " 'Grass' 'Grass' 'Water' 'Ground' 'Ground' 'Ground' 'Fire' 'Fire' 'Grass'\n",
      " 'Bug' 'Bug' 'Dark' 'Dark' 'Psychic' 'Ghost' 'Ghost' 'Water' 'Water'\n",
      " 'Rock' 'Rock' 'Poison' 'Poison' 'Dark' 'Dark' 'Normal' 'Normal' 'Psychic'\n",
      " 'Psychic' 'Psychic' 'Psychic' 'Psychic' 'Psychic' 'Water' 'Water' 'Ice'\n",
      " 'Ice' 'Ice' 'Normal' 'Normal' 'Electric' 'Bug' 'Bug' 'Grass' 'Grass'\n",
      " 'Water' 'Water' 'Water' 'Bug' 'Bug' 'Grass' 'Grass' 'Steel' 'Steel'\n",
      " 'Steel' 'Electric' 'Electric' 'Electric' 'Psychic' 'Psychic' 'Ghost'\n",
      " 'Ghost' 'Ghost' 'Dragon' 'Dragon' 'Dragon' 'Ice' 'Ice' 'Ice' 'Bug' 'Bug'\n",
      " 'Ground' 'Fighting' 'Fighting' 'Dragon' 'Ground' 'Ground' 'Dark' 'Dark'\n",
      " 'Normal' 'Normal' 'Normal' 'Dark' 'Dark' 'Fire' 'Bug' 'Dark' 'Dark'\n",
      " 'Dark' 'Bug' 'Bug' 'Steel' 'Rock' 'Grass' 'Flying' 'Electric' 'Dragon'\n",
      " 'Dragon' 'Ground' 'Dragon' 'Water' 'Normal' 'Bug' 'Grass' 'Grass' 'Grass'\n",
      " 'Fire' 'Fire' 'Fire' 'Water' 'Water' 'Water' 'Normal' 'Normal' 'Normal'\n",
      " 'Fire' 'Fire' 'Bug' 'Bug' 'Bug' 'Fire' 'Fire' 'Fairy' 'Fairy' 'Fairy'\n",
      " 'Grass' 'Grass' 'Fighting' 'Fighting' 'Normal' 'Psychic' 'Psychic'\n",
      " 'Steel' 'Steel' 'Steel' 'Fairy' 'Fairy' 'Fairy' 'Fairy' 'Dark' 'Dark'\n",
      " 'Rock' 'Rock' 'Poison' 'Poison' 'Water' 'Water' 'Electric' 'Electric'\n",
      " 'Rock' 'Rock' 'Rock' 'Rock' 'Fairy' 'Fighting' 'Electric' 'Rock' 'Dragon'\n",
      " 'Dragon' 'Dragon' 'Steel' 'Ghost' 'Ghost' 'Ghost' 'Ghost' 'Ice' 'Ice'\n",
      " 'Flying' 'Flying' 'Fairy' 'Dark' 'Dragon' 'Rock' 'Psychic' 'Fire']\n"
     ]
    }
   ],
   "source": [
    "pokemon = pd.read_csv(\"C:/Users/HP/Desktop/kaggle/pokemon_alopez247.csv\")\n",
    "X = pokemon.drop([\"Name\",\"Number\",\"Type_1\",\"Type_2\",\"Egg_Group_2\",\"Pr_Male\",\"hasMegaEvolution\"], axis = 1)\n",
    "print(X.head())\n",
    "print(\"--------------\")\n",
    "Y = pokemon.iloc[:, 2].values\n",
    "print(Y)\n"
   ]
  },
  {
   "cell_type": "code",
   "execution_count": 53,
   "metadata": {},
   "outputs": [
    {
     "data": {
      "text/plain": [
       "Total          0\n",
       "HP             0\n",
       "Attack         0\n",
       "Defense        0\n",
       "Sp_Atk         0\n",
       "Sp_Def         0\n",
       "Speed          0\n",
       "Generation     0\n",
       "isLegendary    0\n",
       "Color          0\n",
       "hasGender      0\n",
       "Egg_Group_1    0\n",
       "Height_m       0\n",
       "Weight_kg      0\n",
       "Catch_Rate     0\n",
       "Body_Style     0\n",
       "dtype: int64"
      ]
     },
     "execution_count": 53,
     "metadata": {},
     "output_type": "execute_result"
    }
   ],
   "source": [
    "X.isnull().sum()"
   ]
  },
  {
   "cell_type": "code",
   "execution_count": 54,
   "metadata": {},
   "outputs": [
    {
     "data": {
      "text/plain": [
       "<matplotlib.axes._subplots.AxesSubplot at 0x27059499910>"
      ]
     },
     "execution_count": 54,
     "metadata": {},
     "output_type": "execute_result"
    },
    {
     "data": {
      "image/png": "[encoded data removed]",
      "text/plain": [
       "<Figure size 432x288 with 1 Axes>"
      ]
     },
     "metadata": {
      "needs_background": "light"
     },
     "output_type": "display_data"
    }
   ],
   "source": [
    "import seaborn as sns\n",
    "sns.countplot(pokemon.Color)"
   ]
  },
  {
   "cell_type": "code",
   "execution_count": null,
   "metadata": {},
   "outputs": [],
   "source": [
    "\n"
   ]
  },
  {
   "cell_type": "code",
   "execution_count": 55,
   "metadata": {},
   "outputs": [
    {
     "name": "stdout",
     "output_type": "stream",
     "text": [
      "     Total   HP  Attack  Defense  Sp_Atk  Sp_Def  Speed  Generation  \\\n",
      "0      318   45      49       49      65      65     45           1   \n",
      "1      405   60      62       63      80      80     60           1   \n",
      "2      525   80      82       83     100     100     80           1   \n",
      "3      309   39      52       43      60      50     65           1   \n",
      "4      405   58      64       58      80      65     80           1   \n",
      "..     ...  ...     ...      ...     ...     ...    ...         ...   \n",
      "716    680  126     131       95     131      98     99           6   \n",
      "717    600  108     100      121      81      95     95           6   \n",
      "718    600   50     100      150     100     150     50           6   \n",
      "719    600   80     110       60     150     130     70           6   \n",
      "720    600   80     110      120     130      90     70           6   \n",
      "\n",
      "     isLegendary  Color  hasGender  Egg_Group_1  Height_m  Weight_kg  \\\n",
      "0              0      3          1           10      0.71        6.9   \n",
      "1              0      3          1           10      0.99       13.0   \n",
      "2              0      3          1           10      2.01      100.0   \n",
      "3              0      7          1           10      0.61        8.5   \n",
      "4              0      7          1           10      1.09       19.0   \n",
      "..           ...    ...        ...          ...       ...        ...   \n",
      "716            1      7          0           11      5.79      203.0   \n",
      "717            1      3          0           11      5.00      305.0   \n",
      "718            1      5          0           11      0.71        8.8   \n",
      "719            1      6          0           11      0.51        9.0   \n",
      "720            1      2          0           11      1.70      195.0   \n",
      "\n",
      "     Catch_Rate  Body_Style  \n",
      "0            45           9  \n",
      "1            45           9  \n",
      "2            45           9  \n",
      "3            45           0  \n",
      "4            45           0  \n",
      "..          ...         ...  \n",
      "716          45          12  \n",
      "717           3          10  \n",
      "718           3           3  \n",
      "719           3           6  \n",
      "720           3           9  \n",
      "\n",
      "[721 rows x 16 columns]\n",
      "______________\n",
      "[ 9  9  9  6  6  6 17 17 17  0  0  0  0  0  0 12 12 12 12 12 12 12 13 13\n",
      "  3  3 10 10 13 13 13 13 13 13  4  4  6  6 12 12 13 13  9  9  9  0  0  0\n",
      "  0 10 10 12 12 17 17  5  5  6  6 17 17 17 14 14 14  5  5  5  9  9  9 17\n",
      " 17 15 15 15  6  6 17 17  3  3 12 12 12 17 17 13 13 17 17  8  8  8 15 14\n",
      " 14 17 17  3  3  9  9 10 10  5  5 12 13 13 10 10 12  9 12 17 17 17 17 17\n",
      " 17 14  0 11  3  6  0 12 17 17 17 12 12 17  3  6 12 15 15 15 15 15 12 11\n",
      "  3  6  2  2  2 14 14  9  9  9  6  6  6 17 17 17 12 12 12 12  0  0  0  0\n",
      " 13 17 17  3  4 12  4  4 14 14  3  3  3  9 17 17 15 17  9  9  9 12  9  9\n",
      "  0 17 17 14  1  1 17  8 14 14 12  0  0 12 10 16  4  4 17  0  0  0  1 12\n",
      " 12  6  6 11 11 17 17 17 11 17 16  1  1 17 10 10 12 12 12  5  5 11  3  6\n",
      " 12 12  3  6 17 15 15 15 14  6 14  9  9  9  6  6  6 17 17 17  1  1 12 12\n",
      "  0  0  0  0  0 17 17 17  9  9  9 12 12 17 17 14 14 14  0  0  9  9 12 12\n",
      " 12  0  0  0 12 12 12  5  5 12 15 12 12  1 16 16 16 16  5  5  3  3  3  3\n",
      "  0  0  9 13 13 17 17 17 17  6  6  6 14 14 12 10 10 10  9  9 12  2 12 13\n",
      " 15 15 17 17 17 17 10 10 15 15 15 15 17 17 12 12  8  8  8  8  9 14  1 14\n",
      " 11 11 11 11 11 17 17 17 17 17  2  2  2 16 16 16 15 11 16  2  2 17 10  2\n",
      " 16 14  9  9  9  6  6  6 17 17 17 12 12 12 12 12  0  0  3  3  3  9  9 15\n",
      " 15 15 15  0  0  0  0  0  3 17 17  9  9 17 17 12  8  8 12 12  8  1 12 12\n",
      " 14 13 13 16 16 15 14 12 12  8  2  2  2 12  5  5 10 10 13 13 13 13  9 17\n",
      " 17 17  9  9  1  3 12 10  9  3  6  4  0  9 11 10 11 12 14 15  8 11  3 14\n",
      " 14 14 16 17  6 12  8 14 17 17  1  9 12 14  9  9  9  6  6  6 17 17 17 12\n",
      " 12 12 12 12  1  1  9  9  6  6 17 17 14 14 12 12 12  3  3 15 15 15 14 14\n",
      " 10 10 12  5  5  5 17 17 17  5  5  0  0  0  0  0  0  9  9  9  9 17 10 10\n",
      " 10  6  6  9  0  0  1  1 14  8  8 17 17 15 15 13 13  1  1 12 12 14 14 14\n",
      " 14 14 14 17 17 11 11 11 12 12  3  0  0  9  9 17 17 17  0  0  9  9 16 16\n",
      " 16  3  3  3 14 14  8  8  8  2  2  2 11 11 11  0  0 10  5  5  2 10 10  1\n",
      "  1 12 12 12  1  1  6  0  1  1  1  0  0 16 15  9  7  3  2  2 10  2 17 12\n",
      "  0  9  9  9  6  6  6 17 17 17 12 12 12  6  6  0  0  0  6  6  4  4  4  9\n",
      "  9  5  5 12 14 14 16 16 16  4  4  4  4  1  1 15 15 13 13 17 17  3  3 15\n",
      " 15 15 15  4  5  3 15  2  2  2 16  8  8  8  8 11 11  7  7  4  1  2 15 14\n",
      "  6]\n"
     ]
    }
   ],
   "source": [
    "from sklearn.preprocessing import LabelEncoder,OneHotEncoder\n",
    "labelencoder = LabelEncoder()\n",
    "X.iloc[:, 9] = labelencoder.fit_transform(X.iloc[:, 9])\n",
    "X.iloc[:, 8] = labelencoder.fit_transform(X.iloc[:, 8])\n",
    "X.iloc[:, 10] = labelencoder.fit_transform(X.iloc[:, 10])\n",
    "X.iloc[:, 11] = labelencoder.fit_transform(X.iloc[:, 11])\n",
    "X.iloc[:, 15] = labelencoder.fit_transform(X.iloc[:, 15])\n",
    "Y = labelencoder.fit_transform(Y)\n",
    "print(X)\n",
    "print(\"______________\")\n",
    "print(Y)"
   ]
  },
  {
   "cell_type": "code",
   "execution_count": 56,
   "metadata": {},
   "outputs": [],
   "source": [
    "from sklearn.model_selection import train_test_split\n",
    "x_train,x_test,y_train,y_test = train_test_split(X,Y,test_size = 0.2 , random_state = 0)"
   ]
  },
  {
   "cell_type": "code",
   "execution_count": 58,
   "metadata": {},
   "outputs": [
    {
     "name": "stdout",
     "output_type": "stream",
     "text": [
      " Training Accuracy 1.0\n"
     ]
    },
    {
     "data": {
      "text/plain": [
       "' Testing Accuracy 1.0'"
      ]
     },
     "execution_count": 58,
     "metadata": {},
     "output_type": "execute_result"
    }
   ],
   "source": [
    "from sklearn.neighbors import KNeighborsClassifier\n",
    "knn_model=KNeighborsClassifier(n_jobs=5,n_neighbors=3,p=1,weights='distance')\n",
    "knn_model.fit(x_train,y_train)\n",
    "print(f' Training Accuracy {knn_model.score(x_train,y_train)}')\n",
    "f' Testing Accuracy {knn_model.score(x_train,y_train)}'"
   ]
  },
  {
   "cell_type": "code",
   "execution_count": null,
   "metadata": {},
   "outputs": [],
   "source": []
  },
  {
   "cell_type": "code",
   "execution_count": null,
   "metadata": {},
   "outputs": [],
   "source": []
  }
 ],
 "metadata": {
  "kernelspec": {
   "display_name": "Python 3",
   "language": "python",
   "name": "python3"
  },
  "language_info": {
   "codemirror_mode": {
    "name": "ipython",
    "version": 3
   },
   "file_extension": ".py",
   "mimetype": "text/x-python",
   "name": "python",
   "nbconvert_exporter": "python",
   "pygments_lexer": "ipython3",
   "version": "3.8.3"
  }
 },
 "nbformat": 4,
 "nbformat_minor": 4
}
